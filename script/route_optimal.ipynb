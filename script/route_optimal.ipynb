{
 "cells": [
  {
   "cell_type": "code",
   "execution_count": 3,
   "metadata": {},
   "outputs": [
    {
     "name": "stdout",
     "output_type": "stream",
     "text": [
      "Google Earth Engine ha sido inicializado correctamente.\n"
     ]
    }
   ],
   "source": [
    "import ee\n",
    "\n",
    "try:\n",
    "    ee.Initialize()\n",
    "    print(\"Google Earth Engine ha sido inicializado correctamente.\")\n",
    "except ee.EEException:\n",
    "    print(\"Google Earth Engine no ha sido autenticado, por favor corre el comando 'earthengine authenticate' en tu terminal.\")\n"
   ]
  },
  {
   "cell_type": "code",
   "execution_count": null,
   "metadata": {},
   "outputs": [],
   "source": []
  },
  {
   "cell_type": "code",
   "execution_count": null,
   "metadata": {},
   "outputs": [],
   "source": [
    "import geopandas as gpd\n",
    "import rasterio\n",
    "from rasterio.features import shapes\n",
    "import matplotlib.pyplot as plt\n",
    "import networkx as nx\n",
    "import numpy as np\n",
    "from scipy.spatial import KDTree\n",
    "\n",
    "# Cargar el shapefile de puntos y el DEM\n",
    "shapefile_path = 'puntos.shp'  # Asegúrate de cambiar esto por la ruta de tu archivo\n",
    "dem_path = 'tu_archivo_dem.tif'  # Cambia esto por la ruta de tu archivo DEM\n",
    "\n",
    "# Leer el shapefile con Geopandas\n",
    "gdf = gpd.read_file(shapefile_path)\n",
    "\n",
    "# Asegurarse de que el shapefile tiene al menos dos puntos (A y B)\n",
    "if len(gdf) < 2:\n",
    "    raise ValueError(\"El shapefile debe contener al menos dos puntos.\")\n",
    "\n",
    "# Leer el DEM con Rasterio\n",
    "with rasterio.open(dem_path) as src:\n",
    "    dem = src.read(1)\n",
    "    affine = src.transform\n",
    "\n",
    "# Convertir el DEM a nodos en un grafo, donde cada píxel es un nodo\n",
    "mask = dem != src.nodata  # Asumiendo que hay un valor de nodata para ignorar\n",
    "t = {k: v for k, v in shapes(dem, mask=mask, transform=affine)}\n",
    "G = nx.Graph()\n",
    "for shape, value in t.items():\n",
    "    for i, segment in enumerate(shape['coordinates'][0]):\n",
    "        if i < len(shape['coordinates'][0]) - 1:\n",
    "            G.add_edge(segment, shape['coordinates'][0][i + 1], weight=value)\n",
    "\n",
    "# Extraer las coordenadas de los puntos A y B\n",
    "points = gdf.geometry.apply(lambda geom: (geom.x, geom.y)).tolist()\n",
    "A, B = points[0], points[1]\n",
    "\n",
    "# Encontrar los nodos más cercanos a A y B en el grafo\n",
    "tree = KDTree(list(G.nodes))\n",
    "_, idx_A = tree.query(A)\n",
    "_, idx_B = tree.query(B)\n",
    "node_A, node_B = list(G.nodes)[idx_A], list(G.nodes)[idx_B]\n",
    "\n",
    "# Calcular la ruta óptima basada en el peso (elevación)\n",
    "route = nx.shortest_path(G, source=node_A, target=node_B, weight='weight')\n",
    "\n",
    "# Visualizar la ruta\n",
    "x, y = zip(*route)\n",
    "fig, ax = plt.subplots()\n",
    "rasterio.plot.show(dem, ax=ax, cmap='gray')\n",
    "ax.plot(x, y, color='red')  # Ruta óptima\n",
    "gdf.plot(ax=ax, color='blue', markersize=50)  # Puntos A y B\n",
    "plt.show()\n",
    "\n"
   ]
  }
 ],
 "metadata": {
  "kernelspec": {
   "display_name": "qgz",
   "language": "python",
   "name": "python3"
  },
  "language_info": {
   "codemirror_mode": {
    "name": "ipython",
    "version": 3
   },
   "file_extension": ".py",
   "mimetype": "text/x-python",
   "name": "python",
   "nbconvert_exporter": "python",
   "pygments_lexer": "ipython3",
   "version": "3.9.12"
  }
 },
 "nbformat": 4,
 "nbformat_minor": 2
}
